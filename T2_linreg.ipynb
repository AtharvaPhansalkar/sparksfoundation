{
  "nbformat": 4,
  "nbformat_minor": 0,
  "metadata": {
    "colab": {
      "name": "T2 linreg.ipynb",
      "provenance": [],
      "collapsed_sections": [],
      "include_colab_link": true
    },
    "kernelspec": {
      "name": "python3",
      "display_name": "Python 3"
    }
  },
  "cells": [
    {
      "cell_type": "markdown",
      "metadata": {
        "id": "view-in-github",
        "colab_type": "text"
      },
      "source": [
        "<a href=\"https://colab.research.google.com/github/AtharvaPhansalkar/sparksfoundation/blob/master/T2_linreg.ipynb\" target=\"_parent\"><img src=\"https://colab.research.google.com/assets/colab-badge.svg\" alt=\"Open In Colab\"/></a>"
      ]
    },
    {
      "cell_type": "code",
      "metadata": {
        "id": "V9QN2ZxC38pB",
        "colab_type": "code",
        "colab": {}
      },
      "source": [
        "# Importing all libraries required in this notebook\n",
        "import pandas as pd\n",
        "import numpy as np  \n",
        "import matplotlib.pyplot as plt\n",
        "import seaborn  \n",
        "%matplotlib inline"
      ],
      "execution_count": 35,
      "outputs": []
    },
    {
      "cell_type": "code",
      "metadata": {
        "id": "LtU4YMEhqm9m",
        "colab_type": "code",
        "colab": {
          "base_uri": "https://localhost:8080/",
          "height": 201
        },
        "outputId": "933f8228-bce2-48d3-9286-b8b90176b3d2"
      },
      "source": [
        "# Reading data from remote link\n",
        "url = \"http://bit.ly/w-data\"\n",
        "data = pd.read_csv(url)\n",
        "\n",
        "data.info(7)\n",
        "\n",
        "print(\"CONFIRMS WE HAVE NO NON NULL VALUE\")"
      ],
      "execution_count": 38,
      "outputs": [
        {
          "output_type": "stream",
          "text": [
            "<class 'pandas.core.frame.DataFrame'>\n",
            "RangeIndex: 25 entries, 0 to 24\n",
            "Data columns (total 2 columns):\n",
            " #   Column  Non-Null Count  Dtype  \n",
            "---  ------  --------------  -----  \n",
            " 0   Hours   25 non-null     float64\n",
            " 1   Scores  25 non-null     int64  \n",
            "dtypes: float64(1), int64(1)\n",
            "memory usage: 528.0 bytes\n",
            "CONFIRMS WE HAVE NO NON NULL VALUE\n"
          ],
          "name": "stdout"
        }
      ]
    },
    {
      "cell_type": "markdown",
      "metadata": {
        "id": "RHsPneuM4NgB",
        "colab_type": "text"
      },
      "source": [
        "Let's plot our data points on 2-D graph to eyeball our dataset and see if we can manually find any relationship between the data. We can create the plot with the following script:"
      ]
    },
    {
      "cell_type": "markdown",
      "metadata": {
        "id": "fiQaULio4Rzr",
        "colab_type": "text"
      },
      "source": [
        "**From the graph below, we can clearly see that there is a positive linear relation between the number of hours studied and percentage of score.**"
      ]
    },
    {
      "cell_type": "code",
      "metadata": {
        "id": "sTzL_FmNmY_p",
        "colab_type": "code",
        "colab": {
          "base_uri": "https://localhost:8080/",
          "height": 975
        },
        "outputId": "25b052de-b505-4e54-9f80-2e3c64b05724"
      },
      "source": [
        "f = plt.figure()\n",
        "ax = f.add_subplot(1,1,1)\n",
        "p = seaborn.regplot( 'Hours', y = 'Scores', data = data,ax=ax)\n",
        "plt.title('Hours vs Scores')\n",
        "print(p.get_lines()[0].get_xdata())\n",
        "p.get_lines()[0].get_ydata()"
      ],
      "execution_count": 30,
      "outputs": [
        {
          "output_type": "stream",
          "text": [
            "[1.1        1.18181818 1.26363636 1.34545455 1.42727273 1.50909091\n",
            " 1.59090909 1.67272727 1.75454545 1.83636364 1.91818182 2.\n",
            " 2.08181818 2.16363636 2.24545455 2.32727273 2.40909091 2.49090909\n",
            " 2.57272727 2.65454545 2.73636364 2.81818182 2.9        2.98181818\n",
            " 3.06363636 3.14545455 3.22727273 3.30909091 3.39090909 3.47272727\n",
            " 3.55454545 3.63636364 3.71818182 3.8        3.88181818 3.96363636\n",
            " 4.04545455 4.12727273 4.20909091 4.29090909 4.37272727 4.45454545\n",
            " 4.53636364 4.61818182 4.7        4.78181818 4.86363636 4.94545455\n",
            " 5.02727273 5.10909091 5.19090909 5.27272727 5.35454545 5.43636364\n",
            " 5.51818182 5.6        5.68181818 5.76363636 5.84545455 5.92727273\n",
            " 6.00909091 6.09090909 6.17272727 6.25454545 6.33636364 6.41818182\n",
            " 6.5        6.58181818 6.66363636 6.74545455 6.82727273 6.90909091\n",
            " 6.99090909 7.07272727 7.15454545 7.23636364 7.31818182 7.4\n",
            " 7.48181818 7.56363636 7.64545455 7.72727273 7.80909091 7.89090909\n",
            " 7.97272727 8.05454545 8.13636364 8.21818182 8.3        8.38181818\n",
            " 8.46363636 8.54545455 8.62727273 8.70909091 8.79090909 8.87272727\n",
            " 8.95454545 9.03636364 9.11818182 9.2       ]\n"
          ],
          "name": "stdout"
        },
        {
          "output_type": "execute_result",
          "data": {
            "text/plain": [
              "array([13.23705714, 14.03689559, 14.83673405, 15.63657251, 16.43641097,\n",
              "       17.23624943, 18.03608789, 18.83592635, 19.63576481, 20.43560327,\n",
              "       21.23544173, 22.03528019, 22.83511865, 23.63495711, 24.43479556,\n",
              "       25.23463402, 26.03447248, 26.83431094, 27.6341494 , 28.43398786,\n",
              "       29.23382632, 30.03366478, 30.83350324, 31.6333417 , 32.43318016,\n",
              "       33.23301862, 34.03285708, 34.83269553, 35.63253399, 36.43237245,\n",
              "       37.23221091, 38.03204937, 38.83188783, 39.63172629, 40.43156475,\n",
              "       41.23140321, 42.03124167, 42.83108013, 43.63091859, 44.43075705,\n",
              "       45.23059551, 46.03043396, 46.83027242, 47.63011088, 48.42994934,\n",
              "       49.2297878 , 50.02962626, 50.82946472, 51.62930318, 52.42914164,\n",
              "       53.2289801 , 54.02881856, 54.82865702, 55.62849548, 56.42833393,\n",
              "       57.22817239, 58.02801085, 58.82784931, 59.62768777, 60.42752623,\n",
              "       61.22736469, 62.02720315, 62.82704161, 63.62688007, 64.42671853,\n",
              "       65.22655699, 66.02639545, 66.8262339 , 67.62607236, 68.42591082,\n",
              "       69.22574928, 70.02558774, 70.8254262 , 71.62526466, 72.42510312,\n",
              "       73.22494158, 74.02478004, 74.8246185 , 75.62445696, 76.42429542,\n",
              "       77.22413387, 78.02397233, 78.82381079, 79.62364925, 80.42348771,\n",
              "       81.22332617, 82.02316463, 82.82300309, 83.62284155, 84.42268001,\n",
              "       85.22251847, 86.02235693, 86.82219539, 87.62203385, 88.4218723 ,\n",
              "       89.22171076, 90.02154922, 90.82138768, 91.62122614, 92.4210646 ])"
            ]
          },
          "metadata": {
            "tags": []
          },
          "execution_count": 30
        },
        {
          "output_type": "display_data",
          "data": {
            "image/png": "[encoded data removed]",
            "text/plain": [
              "<Figure size 432x288 with 1 Axes>"
            ]
          },
          "metadata": {
            "tags": [],
            "needs_background": "light"
          }
        }
      ]
    },
    {
      "cell_type": "markdown",
      "metadata": {
        "id": "WWtEr64M4jdz",
        "colab_type": "text"
      },
      "source": [
        "### **Preparing the data**\n",
        "\n",
        "The next step is to divide the data into \"attributes\" (inputs) and \"labels\" (outputs)."
      ]
    },
    {
      "cell_type": "code",
      "metadata": {
        "id": "LiJ5210e4tNX",
        "colab_type": "code",
        "colab": {}
      },
      "source": [
        "X = data['Hours'].values.reshape(-1,1)\n",
        "y = data['Scores'].values.reshape(-1,1) "
      ],
      "execution_count": 42,
      "outputs": []
    },
    {
      "cell_type": "markdown",
      "metadata": {
        "id": "Riz-ZiZ34fO4",
        "colab_type": "text"
      },
      "source": [
        "Now that we have our attributes and labels, the next step is to split this data into training and test sets. We'll do this by using Scikit-Learn's built-in train_test_split() method:"
      ]
    },
    {
      "cell_type": "code",
      "metadata": {
        "id": "udFYso1M4BNw",
        "colab_type": "code",
        "colab": {}
      },
      "source": [
        "from sklearn.model_selection import train_test_split  \n",
        "X_train, X_test, y_train, y_test = train_test_split(X, y, \n",
        "                            test_size=0.2, random_state=0) "
      ],
      "execution_count": 43,
      "outputs": []
    },
    {
      "cell_type": "markdown",
      "metadata": {
        "id": "a6WXptFU5CkC",
        "colab_type": "text"
      },
      "source": [
        "### **Training the Algorithm**\n",
        "We have split our data into training and testing sets, and now is finally the time to train our algorithm. "
      ]
    },
    {
      "cell_type": "code",
      "metadata": {
        "id": "qddCuaS84fpK",
        "colab_type": "code",
        "colab": {
          "base_uri": "https://localhost:8080/",
          "height": 72
        },
        "outputId": "9bb06132-5af4-4e56-fdd3-9f2584c23bcf"
      },
      "source": [
        "from sklearn.linear_model import LinearRegression  \n",
        "regressor = LinearRegression()  \n",
        "regressor.fit(X_train, y_train) \n",
        "\n",
        "print(\"Training complete.\")\n",
        "print('Intercept =', regressor.intercept_)\n",
        "print('Coef =',regressor.coef_)"
      ],
      "execution_count": 47,
      "outputs": [
        {
          "output_type": "stream",
          "text": [
            "Training complete.\n",
            "Intercept = [2.01816004]\n",
            "Coef = [[9.91065648]]\n"
          ],
          "name": "stdout"
        }
      ]
    },
    {
      "cell_type": "code",
      "metadata": {
        "id": "J61NX2_2-px7",
        "colab_type": "code",
        "colab": {}
      },
      "source": [
        "line = regressor.coef_*X+regressor.intercept_"
      ],
      "execution_count": 49,
      "outputs": []
    },
    {
      "cell_type": "markdown",
      "metadata": {
        "id": "JCQn-g4m5OK2",
        "colab_type": "text"
      },
      "source": [
        "### **Making Predictions**\n",
        "Now that we have trained our algorithm, it's time to make some predictions."
      ]
    },
    {
      "cell_type": "code",
      "metadata": {
        "id": "Tt-Fmzu55EGM",
        "colab_type": "code",
        "colab": {
          "base_uri": "https://localhost:8080/",
          "height": 109
        },
        "outputId": "bb06eb6a-15ad-4b4d-86b6-edc16f348d00"
      },
      "source": [
        "print(X_test) # Testing data - In Hours\n",
        "y_pred = regressor.predict(X_test) # Predicting the scores"
      ],
      "execution_count": 50,
      "outputs": [
        {
          "output_type": "stream",
          "text": [
            "[[1.5]\n",
            " [3.2]\n",
            " [7.4]\n",
            " [2.5]\n",
            " [5.9]]\n"
          ],
          "name": "stdout"
        }
      ]
    },
    {
      "cell_type": "code",
      "metadata": {
        "id": "6bmZUMZh5QLb",
        "colab_type": "code",
        "colab": {
          "base_uri": "https://localhost:8080/",
          "height": 206
        },
        "outputId": "a38e8153-66ca-49be-b5de-5375625b8de1"
      },
      "source": [
        "# Comparing Actual vs Predicted\n",
        "df = pd.DataFrame({'Actual': y_test.flatten(), 'Predicted': y_pred.flatten()})\n",
        "df"
      ],
      "execution_count": 53,
      "outputs": [
        {
          "output_type": "execute_result",
          "data": {
            "text/html": [
              "<div>\n",
              "<style scoped>\n",
              "    .dataframe tbody tr th:only-of-type {\n",
              "        vertical-align: middle;\n",
              "    }\n",
              "\n",
              "    .dataframe tbody tr th {\n",
              "        vertical-align: top;\n",
              "    }\n",
              "\n",
              "    .dataframe thead th {\n",
              "        text-align: right;\n",
              "    }\n",
              "</style>\n",
              "<table border=\"1\" class=\"dataframe\">\n",
              "  <thead>\n",
              "    <tr style=\"text-align: right;\">\n",
              "      <th></th>\n",
              "      <th>Actual</th>\n",
              "      <th>Predicted</th>\n",
              "    </tr>\n",
              "  </thead>\n",
              "  <tbody>\n",
              "    <tr>\n",
              "      <th>0</th>\n",
              "      <td>20</td>\n",
              "      <td>16.884145</td>\n",
              "    </tr>\n",
              "    <tr>\n",
              "      <th>1</th>\n",
              "      <td>27</td>\n",
              "      <td>33.732261</td>\n",
              "    </tr>\n",
              "    <tr>\n",
              "      <th>2</th>\n",
              "      <td>69</td>\n",
              "      <td>75.357018</td>\n",
              "    </tr>\n",
              "    <tr>\n",
              "      <th>3</th>\n",
              "      <td>30</td>\n",
              "      <td>26.794801</td>\n",
              "    </tr>\n",
              "    <tr>\n",
              "      <th>4</th>\n",
              "      <td>62</td>\n",
              "      <td>60.491033</td>\n",
              "    </tr>\n",
              "  </tbody>\n",
              "</table>\n",
              "</div>"
            ],
            "text/plain": [
              "   Actual  Predicted\n",
              "0      20  16.884145\n",
              "1      27  33.732261\n",
              "2      69  75.357018\n",
              "3      30  26.794801\n",
              "4      62  60.491033"
            ]
          },
          "metadata": {
            "tags": []
          },
          "execution_count": 53
        }
      ]
    },
    {
      "cell_type": "code",
      "metadata": {
        "id": "KAFO8zbx-AH1",
        "colab_type": "code",
        "colab": {
          "base_uri": "https://localhost:8080/",
          "height": 54
        },
        "outputId": "6a548bed-c56d-495d-e705-bdc08513b6cd"
      },
      "source": [
        "# You can also test with your own data\n",
        "hours = 9.25\n",
        "hour=[[hours]]\n",
        "own_pred = regressor.predict(hour)\n",
        "print(\"No of Hours = {}\".format(hours))\n",
        "print(\"Predicted Score = {}\".format(own_pred[0]))"
      ],
      "execution_count": 70,
      "outputs": [
        {
          "output_type": "stream",
          "text": [
            "No of Hours = 9.25\n",
            "Predicted Score = [93.69173249]\n"
          ],
          "name": "stdout"
        }
      ]
    },
    {
      "cell_type": "markdown",
      "metadata": {
        "id": "0AAsPVA_6KmK",
        "colab_type": "text"
      },
      "source": [
        "### **Evaluating the model**\n",
        "\n",
        "The final step is to evaluate the performance of algorithm. This step is particularly important to compare how well different algorithms perform on a particular dataset. For simplicity here, we have chosen the mean square error. There are many such metrics."
      ]
    },
    {
      "cell_type": "code",
      "metadata": {
        "id": "r5UOrRH-5VCQ",
        "colab_type": "code",
        "colab": {
          "base_uri": "https://localhost:8080/",
          "height": 72
        },
        "outputId": "84b1f3c3-2539-4c73-c884-1b4367ce59b9"
      },
      "source": [
        "from sklearn import metrics  \n",
        "print('Mean Absolute Error:', \n",
        "      metrics.mean_absolute_error(y_test, y_pred)) \n",
        "print('Mean Squared Error:', metrics.mean_squared_error(y_test, y_pred))  \n",
        "print('Root Mean Squared Error:', np.sqrt(metrics.mean_squared_error(y_test, y_pred)))"
      ],
      "execution_count": 64,
      "outputs": [
        {
          "output_type": "stream",
          "text": [
            "Mean Absolute Error: 4.183859899002982\n",
            "Mean Squared Error: 21.598769307217456\n",
            "Root Mean Squared Error: 4.647447612100373\n"
          ],
          "name": "stdout"
        }
      ]
    }
  ]
}